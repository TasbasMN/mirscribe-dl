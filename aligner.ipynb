{
 "cells": [
  {
   "cell_type": "code",
   "execution_count": 1,
   "metadata": {},
   "outputs": [],
   "source": [
    "SCORE_MATRIX = {}\n",
    "for c1 in 'ACGU':\n",
    "    for c2 in 'ACGU':\n",
    "        if (c1, c2) in [('A', 'U'), ('U', 'A'), ('G', 'C'), ('C', 'G')]:\n",
    "            SCORE_MATRIX[(c1, c2)] = 1\n",
    "        elif (c1, c2) in [('U', 'G'), ('G', 'U')]:\n",
    "            SCORE_MATRIX[(c1, c2)] = 1\n",
    "        else:\n",
    "            SCORE_MATRIX[(c1, c2)] = 0\n",
    "\n",
    "\n",
    "seq1 = \"acguacguac\".upper()\n",
    "seq2 = \"cuaccucuac\".upper()\n"
   ]
  },
  {
   "cell_type": "code",
   "execution_count": 2,
   "metadata": {},
   "outputs": [],
   "source": [
    "from Bio import pairwise2\n",
    "\n",
    "alignment_old = pairwise2.align.globaldx(seq1, seq2, SCORE_MATRIX, one_alignment_only=True)[0]\n",
    "\n"
   ]
  },
  {
   "cell_type": "code",
   "execution_count": 37,
   "metadata": {},
   "outputs": [],
   "source": [
    "from Bio.Align import PairwiseAligner\n",
    "from Bio.Align import substitution_matrices\n",
    "\n",
    "# Create 4x4 matrix for RNA nucleotides (A, C, G, U)\n",
    "matrix = substitution_matrices.Array(\"ACGU\", dims=2)\n",
    "\n",
    "# Define base pairing scores\n",
    "base_pairs = {('A','U'), ('U','A'), ('G','C'), ('C','G'), ('G','U'), ('U','G')}\n",
    "\n",
    "# Fill the matrix\n",
    "for i in 'ACGU':\n",
    "    for j in 'ACGU':\n",
    "        matrix[i, j] = 1 if (i, j) in base_pairs else 0\n",
    "\n",
    "# Configure aligner with your matrix\n",
    "aligner = PairwiseAligner()\n",
    "aligner.substitution_matrix = matrix\n",
    "aligner.open_gap_score = 0  # No penalty for opening gaps\n",
    "aligner.extend_gap_score = 0  # No penalty for extending gaps\n",
    "\n",
    "alignments = aligner.align(seq1,seq2)\n",
    "\n",
    "str1 = format(alignments[0]).split(\"\\n\")[0]\n",
    "str2 = format(alignments[0]).split(\"\\n\")[2]\n",
    "score = alignments[0].score"
   ]
  },
  {
   "cell_type": "code",
   "execution_count": 36,
   "metadata": {},
   "outputs": [
    {
     "data": {
      "text/plain": [
       "'--CUACCU-C-U-AC'"
      ]
     },
     "execution_count": 36,
     "metadata": {},
     "output_type": "execute_result"
    }
   ],
   "source": [
    "format(best).split(\"\\n\")[2]\n"
   ]
  }
 ],
 "metadata": {
  "kernelspec": {
   "display_name": "mir",
   "language": "python",
   "name": "python3"
  },
  "language_info": {
   "codemirror_mode": {
    "name": "ipython",
    "version": 3
   },
   "file_extension": ".py",
   "mimetype": "text/x-python",
   "name": "python",
   "nbconvert_exporter": "python",
   "pygments_lexer": "ipython3",
   "version": "3.12.2"
  }
 },
 "nbformat": 4,
 "nbformat_minor": 2
}
