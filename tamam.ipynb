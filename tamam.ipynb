{
 "cells": [
  {
   "cell_type": "code",
   "execution_count": 1,
   "metadata": {},
   "outputs": [],
   "source": [
    "mirna = \"UCAGGUCAUGCAUGCAGUCA\"\n",
    "\n",
    "mrna = \"GTACGTCACGTAGTACGTACGTCAGTACTGCAGTCAGTCAGTCAGT\""
   ]
  },
  {
   "cell_type": "code",
   "execution_count": 2,
   "metadata": {},
   "outputs": [],
   "source": [
    "def dna_to_rna(seq):\n",
    "    \"\"\"Convert DNA to RNA (T->U)\"\"\"\n",
    "    return seq.upper().replace('T', 'U')"
   ]
  },
  {
   "cell_type": "code",
   "execution_count": 5,
   "metadata": {},
   "outputs": [
    {
     "data": {
      "text/plain": [
       "'GUACGUCACGUAGUACGUACGUCAGUACUGCAGUCAGUCAGUCAGU'"
      ]
     },
     "execution_count": 5,
     "metadata": {},
     "output_type": "execute_result"
    }
   ],
   "source": [
    "mirna_seq = dna_to_rna(mirna)\n",
    "mrna_seq = dna_to_rna(mrna)\n",
    "\n",
    "mrna_seq"
   ]
  },
  {
   "cell_type": "code",
   "execution_count": 7,
   "metadata": {},
   "outputs": [
    {
     "data": {
      "text/plain": [
       "TargetNet(\n",
       "  (stem): Sequential(\n",
       "    (0): Conv_Layer(\n",
       "      (relu): ReLU()\n",
       "      (dropout): Dropout(p=0, inplace=False)\n",
       "      (conv): Sequential(\n",
       "        (0): ConstantPad1d(padding=(2, 2), value=0)\n",
       "        (1): Conv1d(10, 16, kernel_size=(5,), stride=(1,), bias=False)\n",
       "      )\n",
       "    )\n",
       "    (1): Conv_Layer(\n",
       "      (relu): ReLU()\n",
       "      (dropout): Dropout(p=0, inplace=False)\n",
       "      (conv): Sequential(\n",
       "        (0): ConstantPad1d(padding=(2, 2), value=0)\n",
       "        (1): Conv1d(16, 16, kernel_size=(5,), stride=(1,), bias=False)\n",
       "      )\n",
       "    )\n",
       "  )\n",
       "  (stage1): Sequential(\n",
       "    (0): ResNet_Block(\n",
       "      (relu): ReLU()\n",
       "      (dropout): Dropout(p=0, inplace=False)\n",
       "      (conv1): Sequential(\n",
       "        (0): ConstantPad1d(padding=(1, 1), value=0)\n",
       "        (1): Conv1d(16, 16, kernel_size=(3,), stride=(1,), bias=False)\n",
       "      )\n",
       "      (conv2): Sequential(\n",
       "        (0): ConstantPad1d(padding=(1, 1), value=0)\n",
       "        (1): Conv1d(16, 16, kernel_size=(3,), stride=(1,), bias=False)\n",
       "      )\n",
       "    )\n",
       "  )\n",
       "  (stage2): Sequential(\n",
       "    (0): ResNet_Block(\n",
       "      (relu): ReLU()\n",
       "      (dropout): Dropout(p=0, inplace=False)\n",
       "      (conv1): Sequential(\n",
       "        (0): ConstantPad1d(padding=(1, 1), value=0)\n",
       "        (1): Conv1d(16, 32, kernel_size=(3,), stride=(1,), bias=False)\n",
       "      )\n",
       "      (conv2): Sequential(\n",
       "        (0): ConstantPad1d(padding=(1, 1), value=0)\n",
       "        (1): Conv1d(32, 32, kernel_size=(3,), stride=(1,), bias=False)\n",
       "      )\n",
       "    )\n",
       "  )\n",
       "  (relu): ReLU()\n",
       "  (dropout): Dropout(p=0, inplace=False)\n",
       "  (max_pool): MaxPool1d(kernel_size=3, stride=3, padding=0, dilation=1, ceil_mode=False)\n",
       "  (linear): Linear(in_features=512, out_features=1, bias=True)\n",
       ")"
      ]
     },
     "execution_count": 7,
     "metadata": {},
     "output_type": "execute_result"
    }
   ],
   "source": [
    "from src.model.model import TargetNet  # Make sure model.py is in your working directory or in PYTHONPATH\n",
    "import json\n",
    "import torch\n",
    "\n",
    "MODEL_PATH = \"pretrained_models/TargetNet.pt\"\n",
    "MODEL_CONFIG_PATH = \"config/model/TargetNet.json\"\n",
    "\n",
    "with open (MODEL_CONFIG_PATH, 'r') as f:\n",
    "    config = json.load(f)\n",
    "\n",
    "model = TargetNet(\n",
    "    model_cfg=type('Config', (), config),  # Convert dict to dummy object\n",
    "    with_esa=True,  # Must match training config\n",
    "    dropout_rate=0  # Disable for inference\n",
    ")\n",
    "\n",
    "# 4. Load weights\n",
    "model.load_state_dict(torch.load(MODEL_PATH, map_location='cpu'))\n",
    "model.eval()"
   ]
  },
  {
   "cell_type": "code",
   "execution_count": 11,
   "metadata": {},
   "outputs": [],
   "source": [
    "# 5. Helper functions\n",
    "def dna_to_rna(seq):\n",
    "    return seq.upper().replace('T', 'U')\n",
    "\n",
    "def reverse_complement(seq):\n",
    "    comp = {'A':'U', 'U':'A', 'C':'G', 'G':'C'}\n",
    "    return ''.join([comp.get(c, 'N') for c in seq[::-1]])\n",
    "\n",
    "# 6. Sample sequences (replace with yours)\n",
    "miRNA_dna = \"TGAGGTAGATCTCACTGTAGA\"  # Example miRNA \n",
    "mRNA_dna = \"ATCGATCGATCGATCGATCGATCGATCGATCGATCGATCGATCGATCGATCGATCGATCG\"  # Your 51nt\n",
    "\n",
    "# 7. Preprocess sequences\n",
    "miRNA = dna_to_rna(miRNA_dna)\n",
    "mRNA_rc = reverse_complement(dna_to_rna(mRNA_dna))  # Reverse complement"
   ]
  },
  {
   "cell_type": "code",
   "execution_count": 12,
   "metadata": {},
   "outputs": [],
   "source": [
    "from Bio import pairwise2\n"
   ]
  },
  {
   "cell_type": "code",
   "execution_count": 15,
   "metadata": {},
   "outputs": [],
   "source": [
    "# Create score matrix (from original code)\n",
    "score_matrix = {}\n",
    "for c1 in 'ACGU':\n",
    "    for c2 in 'ACGU':\n",
    "        if (c1,c2) in [('A','U'),('U','A'),('G','C'),('C','G'),('U','G'),('G','U')]:\n",
    "            score_matrix[(c1,c2)] = 1\n",
    "        else:\n",
    "            score_matrix[(c1,c2)] = 0\n",
    "\n",
    "alignment = pairwise2.align.globaldx(\n",
    "    miRNA[:10], mRNA_rc[5:15],\n",
    "    score_matrix, one_alignment_only=True\n",
    ")[0]"
   ]
  },
  {
   "cell_type": "code",
   "execution_count": 16,
   "metadata": {},
   "outputs": [],
   "source": [
    "import numpy as np"
   ]
  },
  {
   "cell_type": "code",
   "execution_count": 17,
   "metadata": {},
   "outputs": [],
   "source": [
    "\n",
    "def one_hot(seq):\n",
    "    mapping = {'A':[1,0,0,0], 'U':[0,1,0,0], \n",
    "                'C':[0,0,1,0], 'G':[0,0,0,1]}\n",
    "    encoded = np.zeros((4,50), dtype=np.float32)\n",
    "    for i in range(50):\n",
    "        encoded[:,i] = mapping.get(seq[i].upper() if i<len(seq) else 'N', [0,0,0,0])\n",
    "    return encoded\n",
    "\n",
    "# Build 10x50 tensor (channels:4miRNA +4mRNA +1match +1position)\n",
    "mirna_oh = one_hot(miRNA.ljust(50, 'N'))\n",
    "mrna_oh = one_hot(mRNA_rc.ljust(50, 'N'))"
   ]
  },
  {
   "cell_type": "code",
   "execution_count": 19,
   "metadata": {},
   "outputs": [],
   "source": [
    "# ESA Features (pad alignment to 50nt)\n",
    "align_mi_pad = alignment.seqA.ljust(50, 'N')[:50]\n",
    "align_mrna_pad = alignment.seqB.ljust(50, 'N')[:50]\n",
    "match_feature = np.array([1 if m==w else 0 for m,w in zip(align_mi_pad, align_mrna_pad)])\n",
    "positional_feature = np.linspace(0, alignment.score/10, 50)\n"
   ]
  },
  {
   "cell_type": "code",
   "execution_count": 25,
   "metadata": {},
   "outputs": [
    {
     "data": {
      "text/plain": [
       "7.0"
      ]
     },
     "execution_count": 25,
     "metadata": {},
     "output_type": "execute_result"
    }
   ],
   "source": [
    "alignment[2]"
   ]
  }
 ],
 "metadata": {
  "kernelspec": {
   "display_name": "mirscribe-dl-rO9YN2WA-py3.10",
   "language": "python",
   "name": "python3"
  },
  "language_info": {
   "codemirror_mode": {
    "name": "ipython",
    "version": 3
   },
   "file_extension": ".py",
   "mimetype": "text/x-python",
   "name": "python",
   "nbconvert_exporter": "python",
   "pygments_lexer": "ipython3",
   "version": "3.10.12"
  }
 },
 "nbformat": 4,
 "nbformat_minor": 2
}
